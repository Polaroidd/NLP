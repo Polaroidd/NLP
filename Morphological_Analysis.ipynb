{
 "cells": [
  {
   "cell_type": "code",
   "execution_count": 85,
   "metadata": {
    "id": "CvUQkapWy9el"
   },
   "outputs": [],
   "source": [
    "\n",
    "\n",
    "\n",
    "# 자소 분리 및 결합 코드\n",
    "cho_list = ['ㄱ', 'ㄲ', 'ㄴ', 'ㄷ', 'ㄸ', 'ㄹ', 'ㅁ', 'ㅂ', 'ㅃ', 'ㅅ', 'ㅆ', 'ㅇ', 'ㅈ', 'ㅉ', 'ㅊ', 'ㅋ', 'ㅌ', 'ㅍ', 'ㅎ']\n",
    "jung_list = ['ㅏ', 'ㅐ', 'ㅑ', 'ㅒ', 'ㅓ', 'ㅔ', 'ㅕ', 'ㅖ', 'ㅗ', 'ㅘ', 'ㅙ', 'ㅚ', 'ㅛ', 'ㅜ', 'ㅝ', 'ㅞ', 'ㅟ', 'ㅠ', 'ㅡ', 'ㅢ',\n",
    "             'ㅣ']\n",
    "jong_list = ['', 'ㄱ', 'ㄲ', 'ㄳ', 'ㄴ', 'ㄵ', 'ㄶ', 'ㄷ', 'ㄹ', 'ㄺ', 'ㄻ', 'ㄼ', 'ㄽ', 'ㄾ', 'ㄿ', 'ㅀ', 'ㅁ', 'ㅂ', 'ㅄ', 'ㅅ',\n",
    "             'ㅆ', 'ㅇ', 'ㅈ', 'ㅊ', 'ㅋ', 'ㅌ', 'ㅍ', 'ㅎ']\n",
    "\n",
    "def jaso_split(korean_word):\n",
    "    result = []\n",
    "    for c in list(korean_word.strip()):\n",
    "        # 현재 문자가 한글일 경우\n",
    "        if '가' <= c <= '힣':\n",
    "            chosung = (ord(c) - ord('가')) // 588\n",
    "            jungsung = ((ord(c) - ord('가')) - (588 * chosung)) // 28\n",
    "            jongsung = (ord(c) - ord('가')) - (588 * chosung) - (28 * jungsung) \n",
    "            result.append(cho_list[chosung])\n",
    "            result.append(jung_list[jungsung])\n",
    "            if jongsung:\n",
    "                result.append(jong_list[jongsung])\n",
    "        # 현재 문자가 한글이 아닐 경우\n",
    "        else:\n",
    "            result.append(c)\n",
    "\n",
    "    return result\n",
    "\n",
    "def jaso_combine(chosung, jungsung, jongsung):\n",
    "    if chosung and jungsung:\n",
    "        result = chr((28 * int(jung_list.index(jungsung))) + int(jong_list.index(jongsung)) + (588 * cho_list.index(chosung)) + ord('가'))\n",
    "    else:\n",
    "        result = ''.join([chosung, jungsung, jongsung])\n",
    "    return result"
   ]
  },
  {
   "cell_type": "code",
   "execution_count": 86,
   "metadata": {},
   "outputs": [],
   "source": [
    "def tabular_parsing(jaso_list, morpheme, grammar): #분리된 jaso_list, 접속 정보, 사전 들어와\n",
    "    result = []\n",
    "    comp_list = []\n",
    "    J = jaso_list\n",
    "    for i in range(len(J)-1): # 문장 완성\n",
    "        temp = ''\n",
    "        if J[i] in jung_list:#시작이 중성인 경우\n",
    "            continue\n",
    "            \n",
    "        \n",
    "        elif i == len(J)-2: #2자리 남았을 경우\n",
    "            if J[i] in cho_list:\n",
    "                comp_list.append(jaso_combine(J[i],J[i+1],''))\n",
    "                break\n",
    "                \n",
    "        elif J[i] in cho_list:\n",
    "            if J[i+1] in jung_list:\n",
    "                if i == len(J) -3:\n",
    "                    temp = jaso_combine(J[i],J[i+1],J[i+2])\n",
    "                elif J[i+2] in jong_list:\n",
    "                    \n",
    "                    if J[i+3] in cho_list:\n",
    "                        temp = jaso_combine(J[i],J[i+1],J[i+2])\n",
    "                    else:\n",
    "                        temp = jaso_combine(J[i],J[i+1],'')\n",
    "                else:\n",
    "                    temp = jaso_combine(J[i],J[i+1],'')\n",
    "            if temp != '':\n",
    "                comp_list.append(temp)\n",
    "            \n",
    "            \n",
    "    complete = ''\n",
    "    for a in comp_list:\n",
    "        complete += a \n",
    "    strr = ''\n",
    "    \n",
    "    comp_list_r = comp_list\n",
    "    comp_list_r.reverse()\n",
    " \n",
    "    for a in comp_list_r:\n",
    "        strr =  a + strr\n",
    "        short = complete[0:len(complete)-len(strr)]\n",
    "        if strr in morpheme.keys():\n",
    "            if short in morpheme.keys():\n",
    "                for x in morpheme[short]:\n",
    "                    for y in morpheme[strr]:\n",
    "                        if x + \"+\" + y in grammar:\n",
    "                            L=[]\n",
    "                            L.append(short+\"/\"+x)\n",
    "                            L.append(strr+\"/\"+y)\n",
    "                            result.append(L)\n",
    "                            \n",
    "    return result\n",
    "                "
   ]
  },
  {
   "cell_type": "code",
   "execution_count": 87,
   "metadata": {
    "colab": {
     "base_uri": "https://localhost:8080/"
    },
    "executionInfo": {
     "elapsed": 313,
     "status": "ok",
     "timestamp": 1675665656815,
     "user": {
      "displayName": "YJ JJ",
      "userId": "16685945690070219700"
     },
     "user_tz": -540
    },
    "id": "RNqQxoVEzG1D",
    "outputId": "49168229-7edb-4b20-f8ed-739ef39be356"
   },
   "outputs": [
    {
     "name": "stdout",
     "output_type": "stream",
     "text": [
      "['ㄱ', 'ㅓ', 'ㄴ', 'ㄱ', 'ㅜ', 'ㄱ', 'ㄷ', 'ㅐ', 'ㄱ', 'ㅏ']\n",
      "[['건국대/NNP', '가/NNG'], ['건국대/NNP', '가/JKS'], ['건국/NNG', '대가/NNG']]\n"
     ]
    }
   ],
   "source": [
    "if __name__ == '__main__':\n",
    "    morpheme = {\"건국\": [\"NNG\"], \"국\": [\"NNG\"], \"대\": [\"NNB\"], \"대가\": [\"NNG\"], \"건국대\": [\"NNP\"], \"가\": [\"NNG\", \"JKS\"]} #사전\n",
    "    grammar = [\"NNG+NNG\", \"NNB+JKS\", \"NNG+JKS\", \"NNP+NNG\", \"NNP+JKS\"] #접속정보\n",
    "\n",
    "    # input_text = input(\"Input Sentence : \")\n",
    "    input_text = \"건국대가\"\n",
    "    jaso_list = jaso_split(input_text)\n",
    "    print(jaso_list)\n",
    "    print(tabular_parsing(jaso_list, morpheme, grammar))\n",
    "\n",
    "#최종 모양만 나오면 돼!"
   ]
  },
  {
   "cell_type": "code",
   "execution_count": null,
   "metadata": {
    "id": "qrRghGMpzIaG"
   },
   "outputs": [],
   "source": []
  }
 ],
 "metadata": {
  "colab": {
   "authorship_tag": "ABX9TyPVx4erw7G9j3nQF9pblgQB",
   "provenance": []
  },
  "kernelspec": {
   "display_name": "Python 3 (ipykernel)",
   "language": "python",
   "name": "python3"
  },
  "language_info": {
   "codemirror_mode": {
    "name": "ipython",
    "version": 3
   },
   "file_extension": ".py",
   "mimetype": "text/x-python",
   "name": "python",
   "nbconvert_exporter": "python",
   "pygments_lexer": "ipython3",
   "version": "3.9.15"
  }
 },
 "nbformat": 4,
 "nbformat_minor": 1
}
