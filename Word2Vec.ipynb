{
  "nbformat": 4,
  "nbformat_minor": 0,
  "metadata": {
    "colab": {
      "provenance": []
    },
    "kernelspec": {
      "name": "python3",
      "display_name": "Python 3"
    },
    "language_info": {
      "name": "python"
    }
  },
  "cells": [
    {
      "cell_type": "code",
      "execution_count": null,
      "metadata": {
        "colab": {
          "base_uri": "https://localhost:8080/"
        },
        "id": "J6pd1q5sx4Pp",
        "outputId": "df9a9654-7f07-4da6-96a8-a2e0e4cd43df"
      },
      "outputs": [
        {
          "output_type": "stream",
          "name": "stdout",
          "text": [
            "Looking in indexes: https://pypi.org/simple, https://us-python.pkg.dev/colab-wheels/public/simple/\n",
            "Collecting konlpy\n",
            "  Downloading konlpy-0.6.0-py2.py3-none-any.whl (19.4 MB)\n",
            "\u001b[2K     \u001b[90m━━━━━━━━━━━━━━━━━━━━━━━━━━━━━━━━━━━━━━━━\u001b[0m \u001b[32m19.4/19.4 MB\u001b[0m \u001b[31m51.8 MB/s\u001b[0m eta \u001b[36m0:00:00\u001b[0m\n",
            "\u001b[?25hRequirement already satisfied: lxml>=4.1.0 in /usr/local/lib/python3.9/dist-packages (from konlpy) (4.9.2)\n",
            "Requirement already satisfied: numpy>=1.6 in /usr/local/lib/python3.9/dist-packages (from konlpy) (1.22.4)\n",
            "Collecting JPype1>=0.7.0\n",
            "  Downloading JPype1-1.4.1-cp39-cp39-manylinux_2_12_x86_64.manylinux2010_x86_64.whl (465 kB)\n",
            "\u001b[2K     \u001b[90m━━━━━━━━━━━━━━━━━━━━━━━━━━━━━━━━━━━━━━\u001b[0m \u001b[32m465.3/465.3 KB\u001b[0m \u001b[31m28.7 MB/s\u001b[0m eta \u001b[36m0:00:00\u001b[0m\n",
            "\u001b[?25hRequirement already satisfied: packaging in /usr/local/lib/python3.9/dist-packages (from JPype1>=0.7.0->konlpy) (23.0)\n",
            "Installing collected packages: JPype1, konlpy\n",
            "Successfully installed JPype1-1.4.1 konlpy-0.6.0\n"
          ]
        }
      ],
      "source": [
        "!pip install konlpy\n"
      ]
    },
    {
      "cell_type": "code",
      "source": [
        "from konlpy.tag import Mecab\n",
        "import numpy as np\n",
        "from gensim.models import Word2Vec, KeyedVectors\n",
        "from google.colab import drive\n",
        "drive.mount('/content/drive')"
      ],
      "metadata": {
        "id": "TFc5A_Bh97Ht",
        "colab": {
          "base_uri": "https://localhost:8080/"
        },
        "outputId": "b91fbd63-6cb7-4721-a1a6-293d7206bc82"
      },
      "execution_count": null,
      "outputs": [
        {
          "output_type": "stream",
          "name": "stdout",
          "text": [
            "Mounted at /content/drive\n"
          ]
        }
      ]
    },
    {
      "cell_type": "code",
      "source": [
        "loaded_model = Word2Vec.load(\"/content/drive/My Drive/NLP/ko.bin\")"
      ],
      "metadata": {
        "id": "5jlXk48lBMvI"
      },
      "execution_count": null,
      "outputs": []
    },
    {
      "cell_type": "code",
      "source": [
        "#print(loaded_model.wv.most_similar('한국'-'서울'+'파리'))\n",
        "def learning(p,n):\n",
        "  pos = p.split()\n",
        "  neg = n.split()\n",
        "  str = \"\"\n",
        "  res = loaded_model.most_similar(positive=pos,negative=neg)\n",
        "  for a in res[:3]:\n",
        "    str += a[0] + \" \"\n",
        "  return str\n",
        "print(\"한국-서울+파리 =\",learning('한국 파리','서울'))\n",
        "print(\"컴퓨터+공학+인문학 =\",learning('컴퓨터 공학 인문학',''))\n",
        "print(\"사랑+이별 =\",learning('사랑 이별',''))\n",
        "print(\"충청북도-청주+강원도 =\",learning('충청북도 강원도','청주'))\n",
        "print(\"인간-사랑 =\",learning('인간','사랑'))\n",
        "print(\"미술-물감+음악 =\",learning('미술 음악','물감'))\n",
        "\n"
      ],
      "metadata": {
        "id": "hiLAPKIRRBHc",
        "colab": {
          "base_uri": "https://localhost:8080/"
        },
        "outputId": "5859e796-ca82-456b-ceed-74ae3e0b8abb"
      },
      "execution_count": null,
      "outputs": [
        {
          "output_type": "stream",
          "name": "stdout",
          "text": [
            "한국-서울+파리 = 프랑스 영국 미국 \n",
            "컴퓨터+공학+인문학 = 인공지능 전산학 사회학 \n",
            "사랑+이별 = 슬픔 추억 절망 \n",
            "충청북도-청주+강원도 = 평창군 화천군 경상북도 \n",
            "인간-사랑 = 내재적 유기체 구조적 \n",
            "미술-물감+음악 = 예술 성악 연극 \n"
          ]
        },
        {
          "output_type": "stream",
          "name": "stderr",
          "text": [
            "<ipython-input-14-d4a7ad86e8cb>:6: DeprecationWarning: Call to deprecated `most_similar` (Method will be removed in 4.0.0, use self.wv.most_similar() instead).\n",
            "  res = loaded_model.most_similar(positive=pos,negative=neg)\n"
          ]
        }
      ]
    },
    {
      "cell_type": "code",
      "source": [],
      "metadata": {
        "id": "sdBIZI8HgI01"
      },
      "execution_count": null,
      "outputs": []
    }
  ]
}